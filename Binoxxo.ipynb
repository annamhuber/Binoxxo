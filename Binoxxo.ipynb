{
 "cells": [
  {
   "cell_type": "markdown",
   "metadata": {},
   "source": [
    "# Binoxxo Puzzle"
   ]
  },
  {
   "cell_type": "markdown",
   "metadata": {},
   "source": [
    "Place X or O in the empty cells so that there are no more than two consecutive X's or O's in a row or a column.\n",
    "The number of X's is the same as the number of O's in each row and column, and all rows and columns are unique.\n",
    "\n",
    "Find more Binoxxo puzzles [here](https://www.binoxxo.ch/Binoxxo-Raetselbuch/)"
   ]
  },
  {
   "cell_type": "markdown",
   "metadata": {},
   "source": [
    "Imports"
   ]
  },
  {
   "cell_type": "code",
   "execution_count": 2,
   "metadata": {
    "lines_to_next_cell": 1
   },
   "outputs": [],
   "source": [
    "from ortools.constraint_solver import pywrapcp\n",
    "from itertools import product"
   ]
  },
  {
   "cell_type": "markdown",
   "metadata": {},
   "source": [
    "Pretty-print square board"
   ]
  },
  {
   "cell_type": "code",
   "execution_count": 3,
   "metadata": {
    "lines_to_next_cell": 1
   },
   "outputs": [],
   "source": [
    "def pretty_print(board):\n",
    "    mapper = {0: 'O', 1: 'X'}\n",
    "    for i in range(len(board)):\n",
    "        for j in range(len(board)):\n",
    "            print(\"[{}] \".format(mapper[board[i][j].Value()]), end='')\n",
    "        print(\"\\n\")\n",
    "    print(\"\\n\\n\")"
   ]
  },
  {
   "cell_type": "markdown",
   "metadata": {},
   "source": [
    "Binoxxo puzzle from lecture"
   ]
  },
  {
   "cell_type": "code",
   "execution_count": 4,
   "metadata": {},
   "outputs": [],
   "source": [
    "binoxxo1 = [\n",
    "    [\"\", \"1\", \"\", \"\", \"\", \"\", \"\", \"\", \"\", \"\"],\n",
    "    [\"\", \"\", \"\", \"0\", \"\", \"\", \"\", \"\", \"\", \"\"],\n",
    "    [\"\", \"1\", \"1\", \"\", \"\", \"\", \"\", \"\", \"\", \"\"],\n",
    "    [\"\", \"\", \"\", \"\", \"0\", \"0\", \"\", \"\", \"\", \"0\"],\n",
    "    [\"1\", \"\", \"\", \"\", \"\", \"\", \"1\", \"1\", \"\", \"\"],\n",
    "    [\"\", \"1\", \"\", \"\", \"1\", \"\", \"\", \"\", \"\", \"\"],\n",
    "    [\"\", \"\", \"\", \"0\", \"\", \"\", \"1\", \"\", \"\", \"\"],\n",
    "    [\"\", \"0\", \"\", \"\", \"\", \"\", \"\", \"0\", \"\", \"0\"],\n",
    "    [\"\", \"\", \"\", \"\", \"0\", \"\", \"\", \"\", \"\", \"\"],\n",
    "    [\"0\", \"\", \"\", \"\", \"\", \"\", \"\", \"\", \"\", \"0\"]\n",
    "]"
   ]
  },
  {
   "cell_type": "markdown",
   "metadata": {},
   "source": [
    "And two more examples"
   ]
  },
  {
   "cell_type": "code",
   "execution_count": 5,
   "metadata": {},
   "outputs": [],
   "source": [
    "binoxxo2 = [\n",
    "    [\"\", \"\", \"0\", \"0\", \"\", \"\", \"\", \"\", \"\", \"\"],\n",
    "    [\"\", \"\", \"\", \"0\", \"\", \"\", \"\", \"\", \"\", \"\"],\n",
    "    [\"0\", \"\", \"\", \"\", \"1\", \"\", \"\", \"1\", \"\", \"\"],\n",
    "    [\"\", \"\", \"\", \"\", \"\", \"0\", \"\", \"\", \"\", \"\"],\n",
    "    [\"0\", \"\", \"\", \"0\", \"\", \"\", \"\", \"\", \"\", \"\"],\n",
    "    [\"\", \"\", \"\", \"0\", \"\", \"\", \"\", \"\", \"1\", \"\"],\n",
    "    [\"\", \"\", \"\", \"\", \"\", \"\", \"\", \"1\", \"1\", \"\"],\n",
    "    [\"1\", \"\", \"\", \"\", \"\", \"\", \"\", \"1\", \"\", \"\"],\n",
    "    [\"\", \"\", \"\", \"\", \"\", \"0\", \"\", \"\", \"\", \"0\"],\n",
    "    [\"\", \"\", \"\", \"\", \"1\", \"\", \"0\", \"\", \"\", \"\"]\n",
    "]\n",
    "binoxxo3 = [\n",
    "    [\"1\", \"\", \"\", \"\", \"\", \"\", \"0\", \"0\", \"\", \"\"],\n",
    "    [\"\", \"\", \"\", \"0\", \"\", \"\", \"\", \"\", \"1\", \"\"],\n",
    "    [\"\", \"\", \"0\", \"\", \"\", \"\", \"\", \"\", \"\", \"\"],\n",
    "    [\"\", \"\", \"\", \"0\", \"\", \"1\", \"\", \"\", \"\", \"0\"],\n",
    "    [\"1\", \"\", \"1\", \"\", \"\", \"1\", \"\", \"\", \"1\", \"\"],\n",
    "    [\"\", \"\", \"1\", \"\", \"1\", \"\", \"\", \"\", \"\", \"\"],\n",
    "    [\"\", \"\", \"\", \"\", \"1\", \"1\", \"\", \"\", \"1\", \"\"],\n",
    "    [\"\", \"\", \"\", \"\", \"\", \"\", \"\", \"\", \"\", \"0\"],\n",
    "    [\"\", \"1\", \"\", \"1\", \"\", \"\", \"\", \"\", \"\", \"\"],\n",
    "    [\"\", \"1\", \"\", \"\", \"1\", \"\", \"\", \"1\", \"1\", \"\"]\n",
    "]"
   ]
  },
  {
   "cell_type": "markdown",
   "metadata": {},
   "source": [
    "Pick one of the examples"
   ]
  },
  {
   "cell_type": "code",
   "execution_count": 6,
   "metadata": {},
   "outputs": [],
   "source": [
    "game = binoxxo1"
   ]
  },
  {
   "cell_type": "markdown",
   "metadata": {},
   "source": [
    "Create constraint solver"
   ]
  },
  {
   "cell_type": "code",
   "execution_count": 7,
   "metadata": {},
   "outputs": [],
   "source": [
    "solver = pywrapcp.Solver(\"Binoxxo\")"
   ]
  },
  {
   "cell_type": "code",
   "execution_count": 8,
   "metadata": {},
   "outputs": [],
   "source": [
    "# Type your model here ...\n",
    "board = [[solver.IntVar(0, 1) for _j in range(10)] for _i in range(10)]\n",
    "board_indices = list(product(range(10), repeat=2))"
   ]
  },
  {
   "cell_type": "code",
   "execution_count": 9,
   "metadata": {},
   "outputs": [],
   "source": [
    "for i, j in board_indices:\n",
    "    if len(game[i][j]) > 0:  # elements are strings, so check for length\n",
    "        solver.Add(board[i][j] == int(game[i][j]))"
   ]
  },
  {
   "cell_type": "code",
   "execution_count": 10,
   "metadata": {},
   "outputs": [],
   "source": [
    "for i in range(10):\n",
    "    solver.Add(solver.Sum([board[j][i] for j in range(10)]) == 5)\n",
    "    solver.Add(solver.Sum([board[i][j] for j in range(10)]) == 5)\n",
    "\n",
    "\n",
    "\n",
    "for i in range(9):\n",
    "    row = (1 + board[i][0] + 100000000 * board[i][1] + 10000000 * board[i][2] + 1000000 * board[i][3] + 100000 * board[i][4] + 10000 * board[i][5] + 1000 * board[i][6] + 100 * board[i][7] + 10 * board[i][8] + 1 * board[i][9]).Var() #PEDER CHEAT\n",
    "    row2 = (1 + board[i+1][0] + 100000000 * board[i+1][1] + 10000000 * board[i+1][2] + 1000000 * board[i+1][3] + 100000 * board[i+1][4] + 10000 * board[i+1][5] + 1000 * board[i+1][6] + 100 * board[i+1][7] + 10 * board[i+1][8] + 1 * board[i+1][9]).Var() #PEDER CHEAT\n",
    "    solver.Add(row != row2)\n",
    "    column = (1 + board[0][i] + 100000000 * board[1][i] + 10000000 * board[2][i] + 1000000 * board[3][i] + 100000 * board[4][i] + 10000 * board[5][i] + 1000 * board[6][i] + 100 * board[7][i] + 10 * board[8][i] + 1 * board[9][i]).Var() #PEDER CHEAT\n",
    "    column2 = (1 + board[0][i+1] + 100000000 * board[1][i+1] + 10000000 * board[2][i+1] + 1000000 * board[3][i+1] + 100000 * board[4][i+1] + 10000 * board[5][i+1] + 1000 * board[6][i+1] + 100 * board[7][i+1] + 10 * board[8][i+1] + 1 * board[9][i+1]).Var()\n",
    "    solver.Add(column != column2)\n",
    "\n",
    "for i in range(10-2):\n",
    "    for j in range(10):\n",
    "        solver.Add(board[i][j] + board[i+1][j] + board[i+2][j] >= 1)\n",
    "        solver.Add(board[i][j] + board[i+1][j] + board[i+2][j] <= 2)\n",
    "        \n",
    "for i in range(10):\n",
    "    for j in range(10-2):\n",
    "        solver.Add(board[i][j] + board[i][j+1] + board[i][j+2] >= 1)\n",
    "        solver.Add(board[i][j] + board[i][j+1] + board[i][j+2] <= 2)"
   ]
  },
  {
   "cell_type": "markdown",
   "metadata": {},
   "source": [
    "Configure solver"
   ]
  },
  {
   "cell_type": "code",
   "execution_count": 11,
   "metadata": {},
   "outputs": [],
   "source": [
    "# Replace this by a list of all decision variables in your model\n",
    "all_vars = []\n",
    "\n",
    "\n",
    "db = solver.Phase([board[i][j] for i, j in board_indices], solver.INT_VAR_SIMPLE, solver.INT_VALUE_SIMPLE)"
   ]
  },
  {
   "cell_type": "markdown",
   "metadata": {},
   "source": [
    "Start solver"
   ]
  },
  {
   "cell_type": "code",
   "execution_count": 12,
   "metadata": {},
   "outputs": [
    {
     "name": "stdout",
     "output_type": "stream",
     "text": [
      "[X] [X] [O] [X] [O] [O] [X] [O] [O] [X] \n",
      "\n",
      "[X] [O] [X] [O] [X] [O] [O] [X] [O] [X] \n",
      "\n",
      "[O] [X] [X] [O] [X] [X] [O] [O] [X] [O] \n",
      "\n",
      "[X] [X] [O] [X] [O] [O] [X] [O] [X] [O] \n",
      "\n",
      "[X] [O] [O] [X] [O] [O] [X] [X] [O] [X] \n",
      "\n",
      "[O] [X] [X] [O] [X] [X] [O] [X] [O] [O] \n",
      "\n",
      "[O] [O] [X] [O] [O] [X] [X] [O] [X] [X] \n",
      "\n",
      "[X] [O] [O] [X] [X] [O] [X] [O] [X] [O] \n",
      "\n",
      "[O] [X] [O] [X] [O] [X] [O] [X] [O] [X] \n",
      "\n",
      "[O] [O] [X] [O] [X] [X] [O] [X] [X] [O] \n",
      "\n",
      "\n",
      "\n",
      "\n"
     ]
    }
   ],
   "source": [
    "solver.NewSearch(db)\n",
    "while solver.NextSolution():\n",
    "    pretty_print(board)"
   ]
  },
  {
   "cell_type": "markdown",
   "metadata": {},
   "source": [
    "Cleanup"
   ]
  },
  {
   "cell_type": "code",
   "execution_count": 13,
   "metadata": {},
   "outputs": [],
   "source": [
    "solver.EndSearch()"
   ]
  },
  {
   "cell_type": "markdown",
   "metadata": {},
   "source": [
    "Print solver information"
   ]
  },
  {
   "cell_type": "code",
   "execution_count": 14,
   "metadata": {},
   "outputs": [
    {
     "name": "stdout",
     "output_type": "stream",
     "text": [
      "Solutions: 1\n",
      "Runtime:   147ms\n",
      "Failures:  219\n",
      "Branches:  438 \n"
     ]
    }
   ],
   "source": [
    "print(\"Solutions: {}\".format(solver.Solutions()))\n",
    "print(\"Runtime:   {}ms\".format(solver.WallTime()))\n",
    "print(\"Failures:  {}\".format(solver.Failures()))\n",
    "print(\"Branches:  {} \".format(solver.Branches()))"
   ]
  },
  {
   "cell_type": "code",
   "execution_count": null,
   "metadata": {},
   "outputs": [],
   "source": []
  }
 ],
 "metadata": {
  "jupytext": {
   "cell_metadata_filter": "-all",
   "main_language": "python",
   "notebook_metadata_filter": "-all",
   "text_representation": {
    "extension": ".py",
    "format_name": "percent"
   }
  },
  "kernelspec": {
   "display_name": "Python 3",
   "language": "python",
   "name": "python3"
  },
  "language_info": {
   "codemirror_mode": {
    "name": "ipython",
    "version": 3
   },
   "file_extension": ".py",
   "mimetype": "text/x-python",
   "name": "python",
   "nbconvert_exporter": "python",
   "pygments_lexer": "ipython3",
   "version": "3.6.4"
  }
 },
 "nbformat": 4,
 "nbformat_minor": 2
}
